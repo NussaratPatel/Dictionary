{
 "cells": [
  {
   "cell_type": "markdown",
   "id": "6a787026",
   "metadata": {},
   "source": [
    "## DICTIONARY"
   ]
  },
  {
   "cell_type": "code",
   "execution_count": 2,
   "id": "2e84f2f9",
   "metadata": {},
   "outputs": [
    {
     "data": {
      "text/plain": [
       "{}"
      ]
     },
     "execution_count": 2,
     "metadata": {},
     "output_type": "execute_result"
    }
   ],
   "source": [
    "#clear()\tRemoves all the elements from the dictionary\n",
    "Student={\"Name\":\"Nita\",\n",
    "        \"Age\":\"20\",\n",
    "        \"Class\":\"12\"}\n",
    "Student.clear()\n",
    "Student"
   ]
  },
  {
   "cell_type": "code",
   "execution_count": 3,
   "id": "2a5179a0",
   "metadata": {},
   "outputs": [
    {
     "data": {
      "text/plain": [
       "{'Name': 'Nita', 'Age': '20', 'Class': '12'}"
      ]
     },
     "execution_count": 3,
     "metadata": {},
     "output_type": "execute_result"
    }
   ],
   "source": [
    "#copy()\tReturns a copy of the dictionary\n",
    "Student={\"Name\":\"Nita\",\n",
    "        \"Age\":\"20\",\n",
    "        \"Class\":\"12\"}\n",
    "X=Student.copy()\n",
    "X"
   ]
  },
  {
   "cell_type": "code",
   "execution_count": 6,
   "id": "d52bcf86",
   "metadata": {},
   "outputs": [
    {
     "data": {
      "text/plain": [
       "{'Nita': 'Class11', 'Priya': 'Class11', 'Raj': 'Class11'}"
      ]
     },
     "execution_count": 6,
     "metadata": {},
     "output_type": "execute_result"
    }
   ],
   "source": [
    "#fromkeys()\tReturns a dictionary with the specified keys and value\n",
    "X=(\"Nita\",\"Priya\",\"Raj\")\n",
    "Y=\"Class11\"\n",
    "Z = dict.fromkeys(X, Y)\n",
    "Z"
   ]
  },
  {
   "cell_type": "code",
   "execution_count": 9,
   "id": "fafc8b6d",
   "metadata": {},
   "outputs": [
    {
     "data": {
      "text/plain": [
       "'20'"
      ]
     },
     "execution_count": 9,
     "metadata": {},
     "output_type": "execute_result"
    }
   ],
   "source": [
    "#get()\tReturns the value of the specified key\n",
    "Student={\"Name\":\"Nita\",\n",
    "        \"Age\":\"20\",\n",
    "        \"Class\":\"12\"}\n",
    "x=Student.get(\"Age\")\n",
    "x"
   ]
  },
  {
   "cell_type": "code",
   "execution_count": 10,
   "id": "bd77f07d",
   "metadata": {},
   "outputs": [
    {
     "data": {
      "text/plain": [
       "dict_items([('Name', 'Nita'), ('Age', '20'), ('Class', '12')])"
      ]
     },
     "execution_count": 10,
     "metadata": {},
     "output_type": "execute_result"
    }
   ],
   "source": [
    "#items()\tReturns a list containing a tuple for each key value pair\n",
    "Student={\"Name\":\"Nita\",\n",
    "        \"Age\":\"20\",\n",
    "        \"Class\":\"12\"}\n",
    "x=Student.items()\n",
    "x"
   ]
  },
  {
   "cell_type": "code",
   "execution_count": 11,
   "id": "298e8178",
   "metadata": {},
   "outputs": [
    {
     "data": {
      "text/plain": [
       "dict_keys(['Name', 'Age', 'Class'])"
      ]
     },
     "execution_count": 11,
     "metadata": {},
     "output_type": "execute_result"
    }
   ],
   "source": [
    "#keys()\tReturns a list containing the dictionary's keys\n",
    "Student={\"Name\":\"Nita\",\n",
    "        \"Age\":\"20\",\n",
    "        \"Class\":\"12\"}\n",
    "x=Student.keys()\n",
    "x"
   ]
  },
  {
   "cell_type": "code",
   "execution_count": 13,
   "id": "32a4f4ab",
   "metadata": {},
   "outputs": [
    {
     "data": {
      "text/plain": [
       "{'Name': 'Nita', 'Class': '12'}"
      ]
     },
     "execution_count": 13,
     "metadata": {},
     "output_type": "execute_result"
    }
   ],
   "source": [
    "#pop()\tRemoves the element with the specified key\n",
    "Student={\"Name\":\"Nita\",\n",
    "        \"Age\":\"20\",\n",
    "        \"Class\":\"12\"}\n",
    "Student.pop(\"Age\")\n",
    "Student"
   ]
  },
  {
   "cell_type": "code",
   "execution_count": 14,
   "id": "a99a80c8",
   "metadata": {},
   "outputs": [
    {
     "data": {
      "text/plain": [
       "{'Name': 'Nita', 'Age': '20'}"
      ]
     },
     "execution_count": 14,
     "metadata": {},
     "output_type": "execute_result"
    }
   ],
   "source": [
    "#popitem()\tRemoves the last inserted key-value pair\n",
    "Student={\"Name\":\"Nita\",\n",
    "        \"Age\":\"20\",\n",
    "        \"Class\":\"12\"}\n",
    "Student.popitem()\n",
    "Student"
   ]
  },
  {
   "cell_type": "code",
   "execution_count": 19,
   "id": "139f0492",
   "metadata": {},
   "outputs": [
    {
     "name": "stdout",
     "output_type": "stream",
     "text": [
      "22\n"
     ]
    },
    {
     "data": {
      "text/plain": [
       "{'Name': 'Nita', 'Class': '12', 'Age': '22'}"
      ]
     },
     "execution_count": 19,
     "metadata": {},
     "output_type": "execute_result"
    }
   ],
   "source": [
    "#setdefault()\tReturns the value of the specified key. If the key does not exist: insert the key, with the specified value\n",
    "Student={\"Name\":\"Nita\",\n",
    "        \n",
    "        \"Class\":\"12\"}\n",
    "x = Student.setdefault(\"Age\", \"22\")\n",
    "\n",
    "print(x)\n",
    "Student"
   ]
  },
  {
   "cell_type": "code",
   "execution_count": 22,
   "id": "aa8f411d",
   "metadata": {},
   "outputs": [
    {
     "data": {
      "text/plain": [
       "{'Name': 'Nita', 'Age': '20', 'Class': '12', 'Marks': '92'}"
      ]
     },
     "execution_count": 22,
     "metadata": {},
     "output_type": "execute_result"
    }
   ],
   "source": [
    "#update()\tUpdates the dictionary with the specified key-value pairs\n",
    "Student={\"Name\":\"Nita\",\n",
    "        \"Age\":\"20\",\n",
    "        \"Class\":\"12\"}\n",
    "Student.update({\"Marks\": \"92\"})\n",
    "Student"
   ]
  },
  {
   "cell_type": "code",
   "execution_count": 23,
   "id": "aef6638d",
   "metadata": {},
   "outputs": [
    {
     "data": {
      "text/plain": [
       "dict_values(['Nita', '20', '12'])"
      ]
     },
     "execution_count": 23,
     "metadata": {},
     "output_type": "execute_result"
    }
   ],
   "source": [
    "#values()\tReturns a list of all the values in the dictionary\n",
    "Student={\"Name\":\"Nita\",\n",
    "        \"Age\":\"20\",\n",
    "        \"Class\":\"12\"}\n",
    "x=Student.values()\n",
    "x"
   ]
  },
  {
   "cell_type": "code",
   "execution_count": null,
   "id": "8a90ef69",
   "metadata": {},
   "outputs": [],
   "source": []
  }
 ],
 "metadata": {
  "kernelspec": {
   "display_name": "Python 3 (ipykernel)",
   "language": "python",
   "name": "python3"
  },
  "language_info": {
   "codemirror_mode": {
    "name": "ipython",
    "version": 3
   },
   "file_extension": ".py",
   "mimetype": "text/x-python",
   "name": "python",
   "nbconvert_exporter": "python",
   "pygments_lexer": "ipython3",
   "version": "3.11.5"
  }
 },
 "nbformat": 4,
 "nbformat_minor": 5
}
